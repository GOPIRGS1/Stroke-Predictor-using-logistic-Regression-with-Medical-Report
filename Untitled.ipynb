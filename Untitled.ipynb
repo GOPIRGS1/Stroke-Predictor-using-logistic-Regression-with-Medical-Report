{
 "cells": [
  {
   "cell_type": "code",
   "execution_count": 2,
   "id": "09038fb9-0218-4f16-aa56-ccfaa51a4657",
   "metadata": {},
   "outputs": [
    {
     "name": "stdout",
     "output_type": "stream",
     "text": [
      "Original Shape: (35000, 19)\n",
      "After Removing Duplicates: (18721, 19)\n",
      "\n",
      "✅ Model Performance\n",
      "Accuracy: 0.9870037386505252\n",
      "\n",
      "Classification Report:\n",
      "               precision    recall  f1-score   support\n",
      "\n",
      "           0       0.98      0.99      0.98      2182\n",
      "           1       0.99      0.99      0.99      3435\n",
      "\n",
      "    accuracy                           0.99      5617\n",
      "   macro avg       0.99      0.99      0.99      5617\n",
      "weighted avg       0.99      0.99      0.99      5617\n",
      "\n",
      "\n",
      "Confusion Matrix:\n",
      " [[2151   31]\n",
      " [  42 3393]]\n",
      "\n",
      "✅ Model and Scaler saved as 'stroke_lr_model.pkl' and 'stroke_scaler.pkl'\n"
     ]
    }
   ],
   "source": [
    "# ==============================\n",
    "# Stroke Risk Prediction Project\n",
    "# ==============================\n",
    "\n",
    "# Libraries\n",
    "import numpy as np\n",
    "import pandas as pd\n",
    "import matplotlib.pyplot as plt\n",
    "import seaborn as sns\n",
    "import warnings\n",
    "warnings.filterwarnings(\"ignore\")\n",
    "\n",
    "from sklearn.model_selection import train_test_split\n",
    "from sklearn.preprocessing import MinMaxScaler\n",
    "from sklearn.linear_model import LogisticRegression\n",
    "from sklearn.metrics import accuracy_score, classification_report, confusion_matrix\n",
    "import joblib\n",
    "\n",
    "# -------------------------------\n",
    "# Step 1: Load Dataset\n",
    "# -------------------------------\n",
    "df = pd.read_csv('stroke_risk_dataset_v2.csv')\n",
    "print(\"Original Shape:\", df.shape)\n",
    "\n",
    "# -------------------------------\n",
    "# Step 2: Clean Data\n",
    "# -------------------------------\n",
    "# Drop duplicates\n",
    "df = df.drop_duplicates().reset_index(drop=True)\n",
    "print(\"After Removing Duplicates:\", df.shape)\n",
    "\n",
    "# Encode gender (Male=1, Female=0)\n",
    "df = pd.get_dummies(df, columns=['gender'], drop_first=True, dtype=int)\n",
    "\n",
    "# Handle age outliers using IQR\n",
    "q1, q3 = df['age'].quantile(0.25), df['age'].quantile(0.75)\n",
    "iqr = q3 - q1\n",
    "ll, ul = q1 - 1.5*iqr, q3 + 1.5*iqr\n",
    "df['age'] = np.where(df['age'] < ll, ll, df['age'])\n",
    "df['age'] = np.where(df['age'] > ul, ul, df['age'])\n",
    "\n",
    "# -------------------------------\n",
    "# Step 3: Define Features & Target\n",
    "# -------------------------------\n",
    "X = df.drop('at_risk', axis=1)\n",
    "y = df['at_risk']\n",
    "\n",
    "# Train-test split\n",
    "X_train, X_test, y_train, y_test = train_test_split(X, y, test_size=0.3, random_state=42)\n",
    "\n",
    "# Scale features (MinMaxScaler)\n",
    "scaler = MinMaxScaler()\n",
    "X_train = pd.DataFrame(scaler.fit_transform(X_train), columns=X_train.columns)\n",
    "X_test = pd.DataFrame(scaler.transform(X_test), columns=X_test.columns)\n",
    "\n",
    "# -------------------------------\n",
    "# Step 4: Train Logistic Regression\n",
    "# -------------------------------\n",
    "lr = LogisticRegression(max_iter=500)\n",
    "lr.fit(X_train, y_train)\n",
    "\n",
    "# -------------------------------\n",
    "# Step 5: Evaluate Model\n",
    "# -------------------------------\n",
    "y_pred = lr.predict(X_test)\n",
    "acc = accuracy_score(y_test, y_pred)\n",
    "\n",
    "print(\"\\n✅ Model Performance\")\n",
    "print(\"Accuracy:\", acc)\n",
    "print(\"\\nClassification Report:\\n\", classification_report(y_test, y_pred))\n",
    "print(\"\\nConfusion Matrix:\\n\", confusion_matrix(y_test, y_pred))\n",
    "\n",
    "# -------------------------------\n",
    "# Step 6: Save Model & Scaler\n",
    "# -------------------------------\n",
    "joblib.dump(lr, \"stroke_lr_model.pkl\")\n",
    "joblib.dump(scaler, \"stroke_scaler.pkl\")\n",
    "print(\"\\n✅ Model and Scaler saved as 'stroke_lr_model.pkl' and 'stroke_scaler.pkl'\")\n"
   ]
  },
  {
   "cell_type": "code",
   "execution_count": 3,
   "id": "bd6bd409-f87a-4395-a590-13eee0a1abc0",
   "metadata": {},
   "outputs": [
    {
     "data": {
      "text/plain": [
       "['age',\n",
       " 'chest_pain',\n",
       " 'high_blood_pressure',\n",
       " 'irregular_heartbeat',\n",
       " 'shortness_of_breath',\n",
       " 'fatigue_weakness',\n",
       " 'dizziness',\n",
       " 'swelling_edema',\n",
       " 'neck_jaw_pain',\n",
       " 'excessive_sweating',\n",
       " 'persistent_cough',\n",
       " 'nausea_vomiting',\n",
       " 'chest_discomfort',\n",
       " 'cold_hands_feet',\n",
       " 'snoring_sleep_apnea',\n",
       " 'anxiety_doom',\n",
       " 'stroke_risk_percentage',\n",
       " 'gender_Male']"
      ]
     },
     "execution_count": 3,
     "metadata": {},
     "output_type": "execute_result"
    }
   ],
   "source": [
    "X_train.columns.tolist()"
   ]
  },
  {
   "cell_type": "code",
   "execution_count": null,
   "id": "9d6aabdc-d2ec-4575-a710-23ee5b0c27e8",
   "metadata": {},
   "outputs": [],
   "source": []
  }
 ],
 "metadata": {
  "kernelspec": {
   "display_name": "Python [conda env:tf_env]",
   "language": "python",
   "name": "conda-env-tf_env-py"
  },
  "language_info": {
   "codemirror_mode": {
    "name": "ipython",
    "version": 3
   },
   "file_extension": ".py",
   "mimetype": "text/x-python",
   "name": "python",
   "nbconvert_exporter": "python",
   "pygments_lexer": "ipython3",
   "version": "3.10.18"
  }
 },
 "nbformat": 4,
 "nbformat_minor": 5
}
